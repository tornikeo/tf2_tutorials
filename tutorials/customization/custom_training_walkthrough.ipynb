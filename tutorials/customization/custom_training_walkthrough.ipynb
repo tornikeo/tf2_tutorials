{
 "cells": [
  {
   "cell_type": "code",
   "execution_count": 59,
   "metadata": {},
   "outputs": [],
   "source": [
    "import os\n",
    "import matplotlib.pyplot as plt\n",
    "import tensorflow as tf\n",
    "import tensorflow.keras as keras\n",
    "import numpy as np"
   ]
  },
  {
   "cell_type": "code",
   "execution_count": 60,
   "metadata": {},
   "outputs": [
    {
     "name": "stdout",
     "output_type": "stream",
     "text": [
      "Local copy of the dataset : /home/tornike/.keras/datasets/iris_training.csv\n"
     ]
    }
   ],
   "source": [
    "train_dataset_url = \"https://storage.googleapis.com/download.tensorflow.org/data/iris_training.csv\"\n",
    "\n",
    "train_dataset_fp = keras.utils.get_file(os.path.basename(train_dataset_url),\n",
    "                                        origin=train_dataset_url,)\n",
    "print(\"Local copy of the dataset : {}\".format(train_dataset_fp))"
   ]
  },
  {
   "cell_type": "code",
   "execution_count": 61,
   "metadata": {},
   "outputs": [
    {
     "name": "stdout",
     "output_type": "stream",
     "text": [
      "120,4,setosa,versicolor,virginica\r\n",
      "6.4,2.8,5.6,2.2,2\r\n",
      "5.0,2.3,3.3,1.0,1\r\n",
      "4.9,2.5,4.5,1.7,2\r\n",
      "4.9,3.1,1.5,0.1,0\r\n",
      "5.7,3.8,1.7,0.3,0\r\n",
      "4.4,3.2,1.3,0.2,0\r\n",
      "5.4,3.4,1.5,0.4,0\r\n",
      "6.9,3.1,5.1,2.3,2\r\n",
      "6.7,3.1,4.4,1.4,1\r\n"
     ]
    }
   ],
   "source": [
    "!head {train_dataset_fp}"
   ]
  },
  {
   "cell_type": "code",
   "execution_count": 62,
   "metadata": {},
   "outputs": [
    {
     "name": "stdout",
     "output_type": "stream",
     "text": [
      "Features: ['sepal_length', 'sepal_width', 'petal_length', 'petal_width']\n",
      "Label: species\n"
     ]
    }
   ],
   "source": [
    "column_names = ['sepal_length', 'sepal_width', 'petal_length', 'petal_width', 'species']\n",
    "\n",
    "feature_names = column_names[:-1]\n",
    "label_name = column_names[-1]\n",
    "\n",
    "print(\"Features: {}\".format(feature_names))\n",
    "print(\"Label: {}\".format(label_name))"
   ]
  },
  {
   "cell_type": "code",
   "execution_count": 63,
   "metadata": {},
   "outputs": [],
   "source": [
    "batch_size = 32\n",
    "\n",
    "train_dataset = tf.data.experimental.make_csv_dataset(\n",
    "    train_dataset_fp,\n",
    "    batch_size,\n",
    "    column_names=column_names,\n",
    "    label_name=label_name,\n",
    "    num_epochs=1,\n",
    ")"
   ]
  },
  {
   "cell_type": "code",
   "execution_count": 64,
   "metadata": {},
   "outputs": [
    {
     "name": "stdout",
     "output_type": "stream",
     "text": [
      "(OrderedDict([('sepal_length', <tf.Tensor: shape=(32,), dtype=float32, numpy=\n",
      "array([6.2, 6.2, 5.2, 5.8, 4.6, 6.7, 6.8, 6.8, 4.4, 6.3, 5.8, 5.8, 4.8,\n",
      "       7.6, 7.7, 6.4, 6.9, 5.7, 6.5, 6.4, 6.4, 5.2, 5.8, 5.1, 6.6, 5.9,\n",
      "       5.1, 6. , 4.4, 6.3, 6.3, 5. ], dtype=float32)>), ('sepal_width', <tf.Tensor: shape=(32,), dtype=float32, numpy=\n",
      "array([2.8, 2.2, 3.4, 4. , 3.4, 3.1, 3. , 3.2, 3.2, 2.7, 2.8, 2.6, 3.1,\n",
      "       3. , 3. , 2.7, 3.2, 4.4, 2.8, 3.2, 2.8, 2.7, 2.7, 3.5, 2.9, 3.2,\n",
      "       3.8, 2.2, 2.9, 2.3, 3.4, 3.4], dtype=float32)>), ('petal_length', <tf.Tensor: shape=(32,), dtype=float32, numpy=\n",
      "array([4.8, 4.5, 1.4, 1.2, 1.4, 4.4, 5.5, 5.9, 1.3, 4.9, 5.1, 4. , 1.6,\n",
      "       6.6, 6.1, 5.3, 5.7, 1.5, 4.6, 5.3, 5.6, 3.9, 4.1, 1.4, 4.6, 4.8,\n",
      "       1.5, 5. , 1.4, 4.4, 5.6, 1.5], dtype=float32)>), ('petal_width', <tf.Tensor: shape=(32,), dtype=float32, numpy=\n",
      "array([1.8, 1.5, 0.2, 0.2, 0.3, 1.4, 2.1, 2.3, 0.2, 1.8, 2.4, 1.2, 0.2,\n",
      "       2.1, 2.3, 1.9, 2.3, 0.4, 1.5, 2.3, 2.2, 1.4, 1. , 0.3, 1.3, 1.8,\n",
      "       0.3, 1.5, 0.2, 1.3, 2.4, 0.2], dtype=float32)>)]), <tf.Tensor: shape=(32,), dtype=int32, numpy=\n",
      "array([2, 1, 0, 0, 0, 1, 2, 2, 0, 2, 2, 1, 0, 2, 2, 2, 2, 0, 1, 2, 2, 1,\n",
      "       1, 0, 1, 1, 0, 2, 0, 1, 2, 0], dtype=int32)>)\n"
     ]
    }
   ],
   "source": [
    "print(next(iter(train_dataset)))"
   ]
  },
  {
   "cell_type": "code",
   "execution_count": 65,
   "metadata": {},
   "outputs": [
    {
     "data": {
      "text/plain": [
       "<matplotlib.collections.PathCollection at 0x7efe6d0f47d0>"
      ]
     },
     "execution_count": 65,
     "metadata": {},
     "output_type": "execute_result"
    },
    {
     "data": {
      "image/png": "[encoded data removed]",
      "text/plain": [
       "<Figure size 432x288 with 1 Axes>"
      ]
     },
     "metadata": {
      "needs_background": "light"
     },
     "output_type": "display_data"
    }
   ],
   "source": [
    "features, labels = next(iter(train_dataset))\n",
    "plt.scatter(features['petal_length'], \n",
    "            features['sepal_length'],\n",
    "            c=labels,\n",
    "           )"
   ]
  },
  {
   "cell_type": "code",
   "execution_count": 66,
   "metadata": {},
   "outputs": [],
   "source": [
    "def pack_features_vector(features, labels):\n",
    "    return tf.stack(list(features.values()), axis=1), labels"
   ]
  },
  {
   "cell_type": "code",
   "execution_count": 67,
   "metadata": {},
   "outputs": [],
   "source": [
    "train_dataset = train_dataset.map(pack_features_vector)"
   ]
  },
  {
   "cell_type": "code",
   "execution_count": 68,
   "metadata": {},
   "outputs": [],
   "source": [
    "features, labels = next(iter(train_dataset))"
   ]
  },
  {
   "cell_type": "code",
   "execution_count": 69,
   "metadata": {},
   "outputs": [],
   "source": [
    "model = keras.models.Sequential([\n",
    "    keras.layers.Input((4,)),\n",
    "    keras.layers.Dense(10, activation=tf.nn.relu,),\n",
    "    keras.layers.Dense(10, activation=tf.nn.relu,),\n",
    "    keras.layers.Dense(3),\n",
    "])"
   ]
  },
  {
   "cell_type": "code",
   "execution_count": 70,
   "metadata": {},
   "outputs": [
    {
     "name": "stdout",
     "output_type": "stream",
     "text": [
      "Loss test: 1.4609739780426025\n"
     ]
    }
   ],
   "source": [
    "loss_object = keras.losses.SparseCategoricalCrossentropy(from_logits=True)\n",
    "def loss(model, x, y, training):\n",
    "    y_ = model(x)\n",
    "    return loss_object(y_true=y, y_pred=y_,)\n",
    "\n",
    "print(\"Loss test: {}\".format(loss(model, features, labels, training=False)))"
   ]
  },
  {
   "cell_type": "code",
   "execution_count": 71,
   "metadata": {},
   "outputs": [
    {
     "name": "stdout",
     "output_type": "stream",
     "text": [
      "Predictions: [[-2.4846818  -2.4530618  -1.4335564 ]\n",
      " [-2.2249892  -2.1636136  -1.1418291 ]\n",
      " [-2.4821095  -2.461014   -1.250261  ]\n",
      " [-2.0474195  -1.5561192  -0.37923384]\n",
      " [-2.1507819  -1.705739   -0.33107018]\n",
      " [-1.8782734  -1.4828308  -0.3253907 ]\n",
      " [-2.101097   -2.0428126  -1.0905362 ]\n",
      " [-2.2386947  -2.439799   -1.3575237 ]\n",
      " [-2.6057634  -2.5790582  -1.4751062 ]\n",
      " [-2.3214233  -1.8770585  -0.4052596 ]\n",
      " [-1.8967259  -2.0022213  -1.1261171 ]\n",
      " [-2.911715   -2.8311458  -1.6893843 ]\n",
      " [-1.9604965  -1.5724189  -0.34368634]\n",
      " [-2.2002916  -1.6947192  -0.3495673 ]\n",
      " [-2.2637672  -2.3720222  -1.3593955 ]\n",
      " [-2.0122263  -2.0643632  -1.0683272 ]\n",
      " [-2.0232265  -1.5675976  -0.37634027]\n",
      " [-2.6334643  -2.6869683  -1.5374068 ]\n",
      " [-2.907987   -3.1550264  -1.768555  ]\n",
      " [-2.5368752  -1.8493034  -0.29704058]\n",
      " [-2.3218663  -1.7346774  -0.40656435]\n",
      " [-2.5147445  -2.4655545  -1.3161744 ]\n",
      " [-2.2404585  -2.285965   -1.3123645 ]\n",
      " [-2.0458348  -2.2132492  -1.2193971 ]\n",
      " [-2.292077   -2.3724425  -1.3903294 ]\n",
      " [-2.2190154  -2.0960288  -1.000659  ]\n",
      " [-2.3747206  -2.2385588  -1.1439159 ]\n",
      " [-2.039562   -1.8225965  -0.8558148 ]\n",
      " [-1.860275   -1.4864535  -0.36009645]\n",
      " [-2.3129106  -1.8040712  -0.3733641 ]\n",
      " [-1.9424981  -1.5760412  -0.37839174]\n",
      " [-2.453867   -2.626159   -1.4516488 ]]\n"
     ]
    }
   ],
   "source": [
    "predictions = model(features)\n",
    "print(\"Predictions: {}\".format(predictions))"
   ]
  },
  {
   "cell_type": "code",
   "execution_count": 72,
   "metadata": {},
   "outputs": [],
   "source": [
    "def grad(model, inputs, targets):\n",
    "    with tf.GradientTape() as tape:\n",
    "        loss_value = loss(model, inputs, targets, training=True)\n",
    "    return loss_value, tape.gradient(loss_value, model.trainable_variables)\n",
    "\n"
   ]
  },
  {
   "cell_type": "code",
   "execution_count": 73,
   "metadata": {},
   "outputs": [],
   "source": [
    "optimizer = tf.keras.optimizers.SGD(lr=1e-2)"
   ]
  },
  {
   "cell_type": "code",
   "execution_count": 74,
   "metadata": {},
   "outputs": [
    {
     "name": "stdout",
     "output_type": "stream",
     "text": [
      "Step 0, Initial Loss 1.4609739780426025\n"
     ]
    },
    {
     "data": {
      "text/plain": [
       "<tf.Variable 'UnreadVariable' shape=() dtype=int64, numpy=1>"
      ]
     },
     "execution_count": 74,
     "metadata": {},
     "output_type": "execute_result"
    }
   ],
   "source": [
    "loss_value, grads = grad(model, features, labels)\n",
    "\n",
    "print(\"Step {}, Initial Loss {}\"\n",
    "      .format(optimizer.iterations.numpy(),\n",
    "              loss_value.numpy()\n",
    "             ))\n",
    "\n",
    "optimizer.apply_gradients(zip(grads, model.trainable_variables))"
   ]
  },
  {
   "cell_type": "code",
   "execution_count": 75,
   "metadata": {},
   "outputs": [
    {
     "name": "stdout",
     "output_type": "stream",
     "text": [
      "Step: 1,         Loss: 1.3419630527496338\n"
     ]
    }
   ],
   "source": [
    "print(\"Step: {},         Loss: {}\".format(optimizer.iterations.numpy(),\n",
    "                                          loss(model, features, labels, training=True).numpy()))"
   ]
  },
  {
   "cell_type": "code",
   "execution_count": 84,
   "metadata": {},
   "outputs": [
    {
     "name": "stdout",
     "output_type": "stream",
     "text": [
      "Epoch 000: Loss: 1.049, Accuracy: 40.833%\n",
      "Epoch 050: Loss: 0.360, Accuracy: 91.667%\n",
      "Epoch 100: Loss: 0.222, Accuracy: 97.500%\n",
      "Epoch 150: Loss: 0.153, Accuracy: 97.500%\n",
      "Epoch 200: Loss: 0.124, Accuracy: 97.500%\n"
     ]
    }
   ],
   "source": [
    "train_loss_results = []\n",
    "train_accuracy_results = []\n",
    "\n",
    "epochs = 201\n",
    "\n",
    "model = keras.models.clone_model(model)\n",
    "accuracy_metric = keras.metrics.Accuracy()\n",
    "\n",
    "for epoch in range(epochs):\n",
    "    epoch_loss_avg = tf.keras.metrics.Mean()\n",
    "    epoch_accuracy = tf.keras.metrics.SparseCategoricalAccuracy()\n",
    "    \n",
    "    for step,(x,y) in enumerate(train_dataset):\n",
    "        loss_value, grads = grad(model, x, y)\n",
    "        optimizer.apply_gradients(zip(grads, model.trainable_variables))\n",
    "        \n",
    "        epoch_loss_avg.update_state(loss_value)\n",
    "        epoch_accuracy.update_state(y, model(x, training=True))\n",
    "        \n",
    "        \n",
    "    train_loss_results.append(epoch_loss_avg.result())\n",
    "    train_accuracy_results.append(epoch_accuracy.result())\n",
    "    \n",
    "    if(epoch % 50 == 0):\n",
    "        print(\"Epoch {:03d}: Loss: {:.3f}, Accuracy: {:.3%}\".format(epoch,\n",
    "                                                                epoch_loss_avg.result(),\n",
    "                                                                epoch_accuracy.result()))"
   ]
  },
  {
   "cell_type": "code",
   "execution_count": 89,
   "metadata": {},
   "outputs": [
    {
     "data": {
      "text/plain": [
       "[<matplotlib.lines.Line2D at 0x7efe6ee9ecd0>]"
      ]
     },
     "execution_count": 89,
     "metadata": {},
     "output_type": "execute_result"
    },
    {
     "data": {
      "image/png": "[encoded data removed]",
      "text/plain": [
       "<Figure size 432x288 with 2 Axes>"
      ]
     },
     "metadata": {
      "needs_background": "light"
     },
     "output_type": "display_data"
    }
   ],
   "source": [
    "fig, axes = plt.subplots(2,1)\n",
    "\n",
    "axes[0].plot(train_loss_results)\n",
    "axes[1].plot(train_accuracy_results)\n"
   ]
  },
  {
   "cell_type": "code",
   "execution_count": null,
   "metadata": {},
   "outputs": [],
   "source": []
  },
  {
   "cell_type": "code",
   "execution_count": null,
   "metadata": {},
   "outputs": [],
   "source": []
  }
 ],
 "metadata": {
  "kernelspec": {
   "display_name": "Python (tf2)",
   "language": "python",
   "name": "tf2"
  },
  "language_info": {
   "codemirror_mode": {
    "name": "ipython",
    "version": 3
   },
   "file_extension": ".py",
   "mimetype": "text/x-python",
   "name": "python",
   "nbconvert_exporter": "python",
   "pygments_lexer": "ipython3",
   "version": "3.7.7"
  }
 },
 "nbformat": 4,
 "nbformat_minor": 4
}
